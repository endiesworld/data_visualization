{
 "cells": [
  {
   "cell_type": "code",
   "execution_count": 2,
   "id": "ce6acd09",
   "metadata": {},
   "outputs": [],
   "source": [
    "import numpy as np\n",
    "import matplotlib.pyplot as plt"
   ]
  },
  {
   "cell_type": "markdown",
   "id": "992ffd81",
   "metadata": {},
   "source": [
    "<img src='assets\\Emmanuel_official.png' />"
   ]
  },
  {
   "cell_type": "code",
   "execution_count": 6,
   "id": "61e60126",
   "metadata": {},
   "outputs": [],
   "source": [
    "image_1 = plt.imread(r'assets\\Emmanuel_official.png')"
   ]
  },
  {
   "cell_type": "code",
   "execution_count": 8,
   "id": "bf24563a",
   "metadata": {},
   "outputs": [
    {
     "name": "stdout",
     "output_type": "stream",
     "text": [
      "Image_1 size: 3105612\n",
      "Image_1 shape: (843, 921, 4)\n",
      "Image_1 dim: 3\n"
     ]
    }
   ],
   "source": [
    "print(f'Image_1 size: {image_1.size}')\n",
    "print(f'Image_1 shape: {image_1.shape}')\n",
    "print(f'Image_1 dim: {image_1.ndim}')"
   ]
  },
  {
   "cell_type": "code",
   "execution_count": null,
   "id": "8880deba",
   "metadata": {},
   "outputs": [],
   "source": []
  }
 ],
 "metadata": {
  "kernelspec": {
   "display_name": "Python 3 (ipykernel)",
   "language": "python",
   "name": "python3"
  },
  "language_info": {
   "codemirror_mode": {
    "name": "ipython",
    "version": 3
   },
   "file_extension": ".py",
   "mimetype": "text/x-python",
   "name": "python",
   "nbconvert_exporter": "python",
   "pygments_lexer": "ipython3",
   "version": "3.9.12"
  }
 },
 "nbformat": 4,
 "nbformat_minor": 5
}
