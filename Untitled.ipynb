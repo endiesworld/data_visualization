{
 "cells": [
  {
   "cell_type": "code",
   "execution_count": 18,
   "id": "667442a1",
   "metadata": {},
   "outputs": [],
   "source": [
    "import numpy as np\n",
    "import matplotlib.pyplot as plt"
   ]
  },
  {
   "cell_type": "code",
   "execution_count": 5,
   "id": "6ab468a9",
   "metadata": {},
   "outputs": [],
   "source": [
    "a = np.array([1,2,3,4,5], dtype='i')\n",
    "b = np.array((1,6,3,4,9),dtype = 'f')\n",
    "c = np.array([2,4,6,8,10])"
   ]
  },
  {
   "cell_type": "code",
   "execution_count": 6,
   "id": "8e8828eb",
   "metadata": {},
   "outputs": [
    {
     "name": "stdout",
     "output_type": "stream",
     "text": [
      "a: [1 2 3 4 5], with data type: int32, and type as: <class 'numpy.ndarray'>\n",
      "a: [1. 6. 3. 4. 9.], with data type: float32, and type as: <class 'numpy.ndarray'>\n",
      "a: [ 2  4  6  8 10], with data type: int32, and type as: <class 'numpy.ndarray'>\n"
     ]
    }
   ],
   "source": [
    "print(f'a: {a}, with data type: {a.dtype}, and type as: {type(a)}')\n",
    "print(f'a: {b}, with data type: {b.dtype}, and type as: {type(b)}')\n",
    "print(f'a: {c}, with data type: {c.dtype}, and type as: {type(c)}')"
   ]
  },
  {
   "cell_type": "markdown",
   "id": "f96af22a",
   "metadata": {},
   "source": [
    "### NOTE :\n",
    "**dtype**: Used for setting the element data types in a numpy array. Recall a numpy array must have homogenuous data type\n",
    "**type**: Regular python method for checking the datatype/class of a python data"
   ]
  },
  {
   "cell_type": "code",
   "execution_count": 7,
   "id": "0ebe5201",
   "metadata": {},
   "outputs": [
    {
     "name": "stdout",
     "output_type": "stream",
     "text": [
      ": [[ 2  4  5  6]\n",
      " [ 9 10 11 12]], with data type: int32, and numbers of dimension as: 2\n"
     ]
    }
   ],
   "source": [
    "d = np.array([[2,4,5,6], [9,10,11,12]])\n",
    "print(f': {d}, with data type: {d.dtype}, and numbers of dimension as: {d.ndim}')"
   ]
  },
  {
   "cell_type": "markdown",
   "id": "a87564c4",
   "metadata": {},
   "source": [
    "**ndim**: This is the numbers of indices required to access a single element in a numpy array."
   ]
  },
  {
   "cell_type": "code",
   "execution_count": 8,
   "id": "dd2370cf",
   "metadata": {},
   "outputs": [
    {
     "name": "stdout",
     "output_type": "stream",
     "text": [
      ": [list([2, 4, 6]) list([9, 10, 11, 12])], with data type: object, and numbers of dimension as: 1\n"
     ]
    },
    {
     "name": "stderr",
     "output_type": "stream",
     "text": [
      "C:\\Users\\endie\\AppData\\Local\\Temp\\ipykernel_14828\\3001416256.py:1: VisibleDeprecationWarning: Creating an ndarray from ragged nested sequences (which is a list-or-tuple of lists-or-tuples-or ndarrays with different lengths or shapes) is deprecated. If you meant to do this, you must specify 'dtype=object' when creating the ndarray.\n",
      "  e = np.array([[2, 4, 6], [9, 10, 11, 12]])\n"
     ]
    }
   ],
   "source": [
    "e = np.array([[2, 4, 6], [9, 10, 11, 12]])\n",
    "print(f': {e}, with data type: {e.dtype}, and numbers of dimension as: {e.ndim}')\n"
   ]
  },
  {
   "cell_type": "code",
   "execution_count": 9,
   "id": "b166ec6d",
   "metadata": {},
   "outputs": [
    {
     "name": "stdout",
     "output_type": "stream",
     "text": [
      ": [[[ 2  4  5  6]\n",
      "  [ 9 10 11 12]]\n",
      "\n",
      " [[ 2  4  5  6]\n",
      "  [ 9 10 11 12]]\n",
      "\n",
      " [[ 2  4  5  6]\n",
      "  [ 9 10 11 12]]], with data type: int32, and numbers of dimension as: 3\n"
     ]
    }
   ],
   "source": [
    "f = np.array([[[2,4,5,6], [9,10,11,12]],[[2,4,5,6], [9,10,11,12]],[[2,4,5,6], [9,10,11,12]]])\n",
    "print(f': {f}, with data type: {f.dtype}, and numbers of dimension as: {f.ndim}')"
   ]
  },
  {
   "cell_type": "markdown",
   "id": "043e5c5b",
   "metadata": {},
   "source": [
    "#### NOTE:\n",
    "For a multidimensional numpy array, the dimensions of each array set mush match.<br>\n",
    "**shape** : Tells us the numbers of elements in each array in a numpy array."
   ]
  },
  {
   "cell_type": "code",
   "execution_count": 10,
   "id": "4e7240d4",
   "metadata": {},
   "outputs": [
    {
     "name": "stdout",
     "output_type": "stream",
     "text": [
      ":The shape of \"f\" is: (3, 2, 4)\n",
      ":The shape of \"d\" is: (2, 4)\n",
      ":The shape of \"b\" is: (5,)\n"
     ]
    }
   ],
   "source": [
    "print(f':The shape of \"f\" is: {f.shape}')\n",
    "print(f':The shape of \"d\" is: {d.shape}')\n",
    "print(f':The shape of \"b\" is: {b.shape}')"
   ]
  },
  {
   "cell_type": "markdown",
   "id": "d7a9820a",
   "metadata": {},
   "source": [
    "#### Numpy for Numerical Data Processing:\n",
    "**np.arange**: np.arange(10), creates a one dimensional array with elements(0-9), ten elements <br>\n",
    "**np.reshape**: Changes the shape of the numpy array. The product of row and column should match the total numbers of element <br>\n",
    "**np.random**: numpy random package for carrying out random operation, e.g generate random numbers. e.g <br>\n",
    "**np.random.permutation** : To arrange elements in a random manner <br>"
   ]
  },
  {
   "cell_type": "code",
   "execution_count": 12,
   "id": "fcae9156",
   "metadata": {},
   "outputs": [
    {
     "data": {
      "text/plain": [
       "array([ 2,  5,  8, 11, 14, 17, 20, 23, 26, 29])"
      ]
     },
     "execution_count": 12,
     "metadata": {},
     "output_type": "execute_result"
    }
   ],
   "source": [
    "A = np.arange(2,30, 3)\n",
    "A"
   ]
  },
  {
   "cell_type": "code",
   "execution_count": 67,
   "id": "005157ad",
   "metadata": {},
   "outputs": [
    {
     "data": {
      "text/plain": [
       "array([ 2,  3,  4,  5,  6,  7,  8,  9, 10, 11, 12, 13, 14, 15, 16, 17, 18,\n",
       "       19, 20, 21, 22, 23, 24, 25, 26, 27, 28, 29])"
      ]
     },
     "execution_count": 67,
     "metadata": {},
     "output_type": "execute_result"
    }
   ],
   "source": [
    "np.arange(2,30)"
   ]
  },
  {
   "cell_type": "code",
   "execution_count": 15,
   "id": "149dd367",
   "metadata": {},
   "outputs": [
    {
     "data": {
      "text/plain": [
       "22"
      ]
     },
     "execution_count": 15,
     "metadata": {},
     "output_type": "execute_result"
    }
   ],
   "source": [
    "# Generates random integer\n",
    "np.random.randint(20,50)"
   ]
  },
  {
   "cell_type": "code",
   "execution_count": 16,
   "id": "92fee86a",
   "metadata": {},
   "outputs": [
    {
     "data": {
      "text/plain": [
       "array([0.39944101, 0.47790553, 0.70077325, 0.35499371, 0.87994114,\n",
       "       0.2786254 , 0.76826595, 0.04228423, 0.87680351, 0.76784278])"
      ]
     },
     "execution_count": 16,
     "metadata": {},
     "output_type": "execute_result"
    }
   ],
   "source": [
    "# Generates n size of random numbers between 0-1\n",
    "np.random.rand(10)"
   ]
  },
  {
   "cell_type": "code",
   "execution_count": 14,
   "id": "7381c63b",
   "metadata": {},
   "outputs": [
    {
     "data": {
      "text/plain": [
       "array([26, 23, 14,  5,  2, 29, 20, 17, 11,  8])"
      ]
     },
     "execution_count": 14,
     "metadata": {},
     "output_type": "execute_result"
    }
   ],
   "source": [
    "B = np.random.permutation(np.arange(2,30, 3))\n",
    "B"
   ]
  },
  {
   "cell_type": "code",
   "execution_count": 20,
   "id": "f40ad3b2",
   "metadata": {},
   "outputs": [],
   "source": [
    "# Generate Gaussian random numbers\n",
    "G_R = np.random.randn(1000)\n"
   ]
  },
  {
   "cell_type": "code",
   "execution_count": 24,
   "id": "4633342f",
   "metadata": {},
   "outputs": [
    {
     "data": {
      "text/plain": [
       "(array([  1.,   0.,   1.,   5.,   5.,  21.,  29.,  55., 112., 107., 118.,\n",
       "        152., 129.,  96.,  78.,  48.,  23.,  14.,   4.,   2.]),\n",
       " array([-4.12618379, -3.76335035, -3.40051691, -3.03768347, -2.67485003,\n",
       "        -2.31201659, -1.94918315, -1.58634971, -1.22351627, -0.86068283,\n",
       "        -0.49784938, -0.13501594,  0.2278175 ,  0.59065094,  0.95348438,\n",
       "         1.31631782,  1.67915126,  2.0419847 ,  2.40481814,  2.76765158,\n",
       "         3.13048502]),\n",
       " <BarContainer object of 20 artists>)"
      ]
     },
     "execution_count": 24,
     "metadata": {},
     "output_type": "execute_result"
    },
    {
     "data": {
      "image/png": "[encoded data removed]",
      "text/plain": [
       "<Figure size 432x288 with 1 Axes>"
      ]
     },
     "metadata": {
      "needs_background": "light"
     },
     "output_type": "display_data"
    }
   ],
   "source": [
    "diag = plt.hist(G_R, bins=20)\n",
    "diag"
   ]
  },
  {
   "cell_type": "code",
   "execution_count": 25,
   "id": "19da0521",
   "metadata": {},
   "outputs": [
    {
     "data": {
      "text/plain": [
       "array([[[0.74262646, 0.85017578],\n",
       "        [0.9302928 , 0.35866007],\n",
       "        [0.92053083, 0.75704917]],\n",
       "\n",
       "       [[0.79016587, 0.22333003],\n",
       "        [0.35568454, 0.42669956],\n",
       "        [0.02151299, 0.53890195]],\n",
       "\n",
       "       [[0.62345124, 0.55284074],\n",
       "        [0.43415997, 0.55064783],\n",
       "        [0.51157475, 0.71629028]]])"
      ]
     },
     "execution_count": 25,
     "metadata": {},
     "output_type": "execute_result"
    }
   ],
   "source": [
    "np_3_d = np.random.rand(3,3,2)\n",
    "np_3_d"
   ]
  },
  {
   "cell_type": "code",
   "execution_count": 26,
   "id": "1d3dff96",
   "metadata": {},
   "outputs": [
    {
     "data": {
      "text/plain": [
       "(1000,)"
      ]
     },
     "execution_count": 26,
     "metadata": {},
     "output_type": "execute_result"
    }
   ],
   "source": [
    "G_R.shape"
   ]
  },
  {
   "cell_type": "code",
   "execution_count": 27,
   "id": "d671f4fd",
   "metadata": {},
   "outputs": [
    {
     "data": {
      "text/plain": [
       "(2, 500)"
      ]
     },
     "execution_count": 27,
     "metadata": {},
     "output_type": "execute_result"
    }
   ],
   "source": [
    "G_R_reshaped_2_500 = G_R.reshape(2,500)\n",
    "G_R_reshaped_2_500.shape"
   ]
  },
  {
   "cell_type": "code",
   "execution_count": 29,
   "id": "85a5186d",
   "metadata": {},
   "outputs": [
    {
     "data": {
      "text/plain": [
       "(2, 50, 10)"
      ]
     },
     "execution_count": 29,
     "metadata": {},
     "output_type": "execute_result"
    }
   ],
   "source": [
    "G_R_reshaped_2_50_10 = G_R_reshaped_2_500.reshape(2,50,10)\n",
    "G_R_reshaped_2_50_10.shape"
   ]
  },
  {
   "cell_type": "markdown",
   "id": "76674105",
   "metadata": {},
   "source": [
    "#### Slicing.\n"
   ]
  },
  {
   "cell_type": "code",
   "execution_count": 35,
   "id": "a6a693ea",
   "metadata": {},
   "outputs": [
    {
     "name": "stdout",
     "output_type": "stream",
     "text": [
      "[ 2  5  8 11 14 17 20 23 50 29]\n",
      "A has a type: <class 'numpy.ndarray'>\n"
     ]
    }
   ],
   "source": [
    "print(A)\n",
    "print(f'A has a type: {type(A)}')"
   ]
  },
  {
   "cell_type": "code",
   "execution_count": 36,
   "id": "83a0817c",
   "metadata": {},
   "outputs": [
    {
     "name": "stdout",
     "output_type": "stream",
     "text": [
      "[ 8 11 14 17 20 23 50]\n",
      "A_sliced has a type: <class 'numpy.ndarray'>\n"
     ]
    }
   ],
   "source": [
    "# Copy both values and memory.\n",
    "A_sliced = A[2:-1]\n",
    "print(A_sliced)\n",
    "print(f'A_sliced has a type: {type(A_sliced)}')"
   ]
  },
  {
   "cell_type": "code",
   "execution_count": 33,
   "id": "2af2f0d8",
   "metadata": {},
   "outputs": [
    {
     "data": {
      "text/plain": [
       "array([ 8, 11, 14, 17, 20, 23, 50])"
      ]
     },
     "execution_count": 33,
     "metadata": {},
     "output_type": "execute_result"
    }
   ],
   "source": [
    "A_sliced[-1] = 50\n",
    "A_sliced"
   ]
  },
  {
   "cell_type": "code",
   "execution_count": 34,
   "id": "1233b1a3",
   "metadata": {},
   "outputs": [
    {
     "name": "stdout",
     "output_type": "stream",
     "text": [
      "[ 2  5  8 11 14 17 20 23 50 29]\n"
     ]
    }
   ],
   "source": [
    "# Notice that the second to last element changed ? means a deep copy was made. this act is dofferent from that of a list\n",
    "print(A)"
   ]
  },
  {
   "cell_type": "code",
   "execution_count": 37,
   "id": "2618e093",
   "metadata": {},
   "outputs": [
    {
     "data": {
      "text/plain": [
       "[2, 5, 8, 11, 14, 17, 20, 23, 26, 29]"
      ]
     },
     "execution_count": 37,
     "metadata": {},
     "output_type": "execute_result"
    }
   ],
   "source": [
    "# Normal ppython list\n",
    "A_list = list(range(2,30, 3))\n",
    "A_list"
   ]
  },
  {
   "cell_type": "code",
   "execution_count": 39,
   "id": "81ce9fb5",
   "metadata": {},
   "outputs": [
    {
     "data": {
      "text/plain": [
       "[8, 11, 14, 17, 20, 23, 26]"
      ]
     },
     "execution_count": 39,
     "metadata": {},
     "output_type": "execute_result"
    }
   ],
   "source": [
    "# Only copies value but not memory (Shallow copy)\n",
    "A_list_sliced = A_list[2:-1]\n",
    "A_list_sliced"
   ]
  },
  {
   "cell_type": "code",
   "execution_count": 40,
   "id": "4526eb91",
   "metadata": {},
   "outputs": [
    {
     "data": {
      "text/plain": [
       "[8, 11, 14, 17, 20, 23, 50]"
      ]
     },
     "execution_count": 40,
     "metadata": {},
     "output_type": "execute_result"
    }
   ],
   "source": [
    "A_list_sliced[-1] = 50\n",
    "A_list_sliced"
   ]
  },
  {
   "cell_type": "code",
   "execution_count": 41,
   "id": "c2abba66",
   "metadata": {},
   "outputs": [
    {
     "data": {
      "text/plain": [
       "[2, 5, 8, 11, 14, 17, 20, 23, 26, 29]"
      ]
     },
     "execution_count": 41,
     "metadata": {},
     "output_type": "execute_result"
    }
   ],
   "source": [
    "# Notice that the value of the second to last element remained the same(shallow copy)\n",
    "A_list"
   ]
  },
  {
   "cell_type": "code",
   "execution_count": 43,
   "id": "47330f7b",
   "metadata": {},
   "outputs": [
    {
     "data": {
      "text/plain": [
       "array([[ 5.,  9.,  9.,  6.,  7.],\n",
       "       [ 8.,  2.,  6.,  6.,  0.],\n",
       "       [ 3.,  2.,  3.,  5.,  7.],\n",
       "       [10.,  4.,  6.,  2.,  2.]])"
      ]
     },
     "execution_count": 43,
     "metadata": {},
     "output_type": "execute_result"
    }
   ],
   "source": [
    "A_2_d = np.round(10*np.random.rand(4,5))\n",
    "A_2_d"
   ]
  },
  {
   "cell_type": "code",
   "execution_count": 44,
   "id": "9a3f697c",
   "metadata": {},
   "outputs": [
    {
     "data": {
      "text/plain": [
       "array([9., 6., 3., 6.])"
      ]
     },
     "execution_count": 44,
     "metadata": {},
     "output_type": "execute_result"
    }
   ],
   "source": [
    "# A list of all 3rd elements in the array\n",
    "A_2_d[:, 2]"
   ]
  },
  {
   "cell_type": "markdown",
   "id": "a75402f9",
   "metadata": {},
   "source": [
    "#### Broadcasting"
   ]
  },
  {
   "cell_type": "code",
   "execution_count": 57,
   "id": "dbc3657d",
   "metadata": {},
   "outputs": [
    {
     "data": {
      "text/plain": [
       "array([[5., 5., 6.],\n",
       "       [7., 6., 6.],\n",
       "       [6., 6., 5.]])"
      ]
     },
     "execution_count": 57,
     "metadata": {},
     "output_type": "execute_result"
    }
   ],
   "source": [
    "# Numpy broadcasting.\n",
    "broad = np.round(2*np.random.rand(3,3))+ 5\n",
    "broad"
   ]
  },
  {
   "cell_type": "code",
   "execution_count": 59,
   "id": "f727ea47",
   "metadata": {},
   "outputs": [
    {
     "data": {
      "text/plain": [
       "array([[23., 23., 24.],\n",
       "       [24., 23., 23.],\n",
       "       [29., 29., 28.]])"
      ]
     },
     "execution_count": 59,
     "metadata": {},
     "output_type": "execute_result"
    }
   ],
   "source": [
    "broad = broad + (np.round(10*np.random.rand(3))+ 5).reshape(3,1)\n",
    "broad"
   ]
  },
  {
   "cell_type": "code",
   "execution_count": 55,
   "id": "53f428ca",
   "metadata": {},
   "outputs": [
    {
     "data": {
      "text/plain": [
       "array([[13.],\n",
       "       [ 6.],\n",
       "       [14.]])"
      ]
     },
     "execution_count": 55,
     "metadata": {},
     "output_type": "execute_result"
    }
   ],
   "source": [
    "(np.round(10*np.random.rand(3))+ 5).reshape(3,1)"
   ]
  },
  {
   "cell_type": "markdown",
   "id": "e6d89dbc",
   "metadata": {},
   "source": [
    "#### np.hstack: More like horizontal concatenation\n",
    "#### np.vstack: Vertical concatenation"
   ]
  },
  {
   "cell_type": "code",
   "execution_count": 61,
   "id": "a87aa043",
   "metadata": {},
   "outputs": [
    {
     "data": {
      "text/plain": [
       "array([[23., 23., 24., 23., 23., 24.],\n",
       "       [24., 23., 23., 24., 23., 23.],\n",
       "       [29., 29., 28., 29., 29., 28.]])"
      ]
     },
     "execution_count": 61,
     "metadata": {},
     "output_type": "execute_result"
    }
   ],
   "source": [
    "np.hstack((broad, broad))"
   ]
  },
  {
   "cell_type": "code",
   "execution_count": 62,
   "id": "0a3a120e",
   "metadata": {},
   "outputs": [
    {
     "data": {
      "text/plain": [
       "array([[23., 23., 24.],\n",
       "       [24., 23., 23.],\n",
       "       [29., 29., 28.],\n",
       "       [23., 23., 24.],\n",
       "       [24., 23., 23.],\n",
       "       [29., 29., 28.]])"
      ]
     },
     "execution_count": 62,
     "metadata": {},
     "output_type": "execute_result"
    }
   ],
   "source": [
    "np.vstack((broad, broad))"
   ]
  },
  {
   "cell_type": "markdown",
   "id": "1fe585cc",
   "metadata": {},
   "source": [
    "#### Axis:\n",
    "**axis = 0**: column wise operation <br>\n",
    "**axis = 1**: row wise operation"
   ]
  },
  {
   "cell_type": "code",
   "execution_count": 63,
   "id": "03dbf9a2",
   "metadata": {},
   "outputs": [
    {
     "data": {
      "text/plain": [
       "array([[40, 10, 15],\n",
       "       [10, 20, 50]])"
      ]
     },
     "execution_count": 63,
     "metadata": {},
     "output_type": "execute_result"
    }
   ],
   "source": [
    "array_1 = np.array([[40,10, 15], [10,20,50]])\n",
    "array_1"
   ]
  },
  {
   "cell_type": "code",
   "execution_count": 64,
   "id": "29fa9579",
   "metadata": {},
   "outputs": [
    {
     "data": {
      "text/plain": [
       "array([[10, 10, 15],\n",
       "       [40, 20, 50]])"
      ]
     },
     "execution_count": 64,
     "metadata": {},
     "output_type": "execute_result"
    }
   ],
   "source": [
    "np.sort(array_1, axis=0)"
   ]
  },
  {
   "cell_type": "code",
   "execution_count": 65,
   "id": "d73b27c0",
   "metadata": {},
   "outputs": [
    {
     "data": {
      "text/plain": [
       "array([[40, 10, 15],\n",
       "       [10, 20, 50]])"
      ]
     },
     "execution_count": 65,
     "metadata": {},
     "output_type": "execute_result"
    }
   ],
   "source": [
    "array_1"
   ]
  },
  {
   "cell_type": "code",
   "execution_count": 66,
   "id": "042a8775",
   "metadata": {},
   "outputs": [
    {
     "data": {
      "text/plain": [
       "array([[10, 15, 40],\n",
       "       [10, 20, 50]])"
      ]
     },
     "execution_count": 66,
     "metadata": {},
     "output_type": "execute_result"
    }
   ],
   "source": [
    "np.sort(array_1, axis=1)"
   ]
  },
  {
   "cell_type": "markdown",
   "id": "c7999ea9",
   "metadata": {},
   "source": [
    "#### np.newaxis : Adds a new null value axis to the existing array <br>\n",
    "Very helpful when the number of axis is requested to be explicitly stated <br>\n",
    "**np.squeeze :** Is used to remove the extra axis added with **np.newaxis**"
   ]
  },
  {
   "cell_type": "code",
   "execution_count": 69,
   "id": "3e705749",
   "metadata": {},
   "outputs": [
    {
     "name": "stdout",
     "output_type": "stream",
     "text": [
      "[0 1 2 3 4 5 6 7 8 9]\n",
      " shape: (10,)\n",
      " Dimension: 1\n"
     ]
    }
   ],
   "source": [
    "one_D_array = np.arange(10)\n",
    "print(one_D_array )\n",
    "print(f' shape: {one_D_array.shape}')\n",
    "print(f' Dimension: {one_D_array.ndim}')"
   ]
  },
  {
   "cell_type": "code",
   "execution_count": 71,
   "id": "cecf1447",
   "metadata": {},
   "outputs": [
    {
     "name": "stdout",
     "output_type": "stream",
     "text": [
      "[[0]\n",
      " [1]\n",
      " [2]\n",
      " [3]\n",
      " [4]\n",
      " [5]\n",
      " [6]\n",
      " [7]\n",
      " [8]\n",
      " [9]]\n",
      " shape: (10, 1)\n",
      " Dimension: 2\n"
     ]
    }
   ],
   "source": [
    " two_D_array = one_D_array[:,np.newaxis]\n",
    "print(two_D_array )\n",
    "print(f' shape: {two_D_array.shape}')\n",
    "print(f' Dimension: {two_D_array.ndim}')"
   ]
  },
  {
   "cell_type": "code",
   "execution_count": 74,
   "id": "bddfe4fc",
   "metadata": {},
   "outputs": [
    {
     "name": "stdout",
     "output_type": "stream",
     "text": [
      "[[3 9 2 7 8 1 6 0 2 6]]\n",
      " shape: (1, 10)\n",
      " Dimension: 2\n"
     ]
    }
   ],
   "source": [
    "one_D_rand = np.random.randint(0,10,size=(1,10))\n",
    "print(one_D_rand )\n",
    "print(f' shape: {one_D_rand.shape}')\n",
    "print(f' Dimension: {one_D_rand.ndim}')"
   ]
  },
  {
   "cell_type": "code",
   "execution_count": 75,
   "id": "65925b4d",
   "metadata": {},
   "outputs": [
    {
     "data": {
      "text/plain": [
       "array([[0, 1, 2, 3, 4, 5, 6, 7, 8, 9]])"
      ]
     },
     "execution_count": 75,
     "metadata": {},
     "output_type": "execute_result"
    }
   ],
   "source": [
    "one_D_array[np.newaxis,:]"
   ]
  },
  {
   "cell_type": "code",
   "execution_count": 76,
   "id": "4d129224",
   "metadata": {},
   "outputs": [
    {
     "data": {
      "text/plain": [
       "array([[ 3, 10,  4, 10, 12,  6, 12,  7, 10, 15]])"
      ]
     },
     "execution_count": 76,
     "metadata": {},
     "output_type": "execute_result"
    }
   ],
   "source": [
    "# Hence :\n",
    "new_2_D = one_D_rand + one_D_array[np.newaxis,:]\n",
    "new_2_D "
   ]
  },
  {
   "cell_type": "code",
   "execution_count": 77,
   "id": "f5bedd82",
   "metadata": {},
   "outputs": [
    {
     "data": {
      "text/plain": [
       "array([ 3, 10,  4, 10, 12,  6, 12,  7, 10, 15])"
      ]
     },
     "execution_count": 77,
     "metadata": {},
     "output_type": "execute_result"
    }
   ],
   "source": [
    "np.squeeze(new_2_D) "
   ]
  },
  {
   "cell_type": "code",
   "execution_count": 78,
   "id": "b5ac0b20",
   "metadata": {},
   "outputs": [
    {
     "data": {
      "text/plain": [
       "array([0, 1, 2, 3, 4, 5, 6, 7, 8, 9])"
      ]
     },
     "execution_count": 78,
     "metadata": {},
     "output_type": "execute_result"
    }
   ],
   "source": [
    "np.squeeze(two_D_array)"
   ]
  },
  {
   "cell_type": "code",
   "execution_count": 79,
   "id": "5f470a05",
   "metadata": {},
   "outputs": [
    {
     "data": {
      "text/plain": [
       "array([3, 9, 2, 7, 8, 1, 6, 0, 2, 6])"
      ]
     },
     "execution_count": 79,
     "metadata": {},
     "output_type": "execute_result"
    }
   ],
   "source": [
    "np.squeeze(one_D_rand)"
   ]
  },
  {
   "cell_type": "code",
   "execution_count": null,
   "id": "70b8e13a",
   "metadata": {},
   "outputs": [],
   "source": []
  }
 ],
 "metadata": {
  "kernelspec": {
   "display_name": "Python 3 (ipykernel)",
   "language": "python",
   "name": "python3"
  },
  "language_info": {
   "codemirror_mode": {
    "name": "ipython",
    "version": 3
   },
   "file_extension": ".py",
   "mimetype": "text/x-python",
   "name": "python",
   "nbconvert_exporter": "python",
   "pygments_lexer": "ipython3",
   "version": "3.9.12"
  },
  "vscode": {
   "interpreter": {
    "hash": "ad2bdc8ecc057115af97d19610ffacc2b4e99fae6737bb82f5d7fb13d2f2c186"
   }
  }
 },
 "nbformat": 4,
 "nbformat_minor": 5
}
