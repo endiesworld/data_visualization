{
 "cells": [
  {
   "cell_type": "code",
   "execution_count": 1,
   "id": "667442a1",
   "metadata": {},
   "outputs": [],
   "source": [
    "import numpy as np"
   ]
  },
  {
   "cell_type": "code",
   "execution_count": 4,
   "id": "6ab468a9",
   "metadata": {},
   "outputs": [],
   "source": [
    "a = np.array([1,2,3,4,5], dtype='i')\n",
    "b = np.array((1,6,3,4,9),dtype = 'f')\n",
    "c = np.array([2,4,6,8,10])"
   ]
  },
  {
   "cell_type": "code",
   "execution_count": 10,
   "id": "8e8828eb",
   "metadata": {},
   "outputs": [
    {
     "name": "stdout",
     "output_type": "stream",
     "text": [
      "a: [1 2 3 4 5], with data type: int32, and type as: <class 'numpy.ndarray'>\n",
      "a: [1. 6. 3. 4. 9.], with data type: float32, and type as: <class 'numpy.ndarray'>\n",
      "a: [ 2  4  6  8 10], with data type: int32, and type as: <class 'numpy.ndarray'>\n"
     ]
    }
   ],
   "source": [
    "print(f'a: {a}, with data type: {a.dtype}, and type as: {type(a)}')\n",
    "print(f'a: {b}, with data type: {b.dtype}, and type as: {type(b)}')\n",
    "print(f'a: {c}, with data type: {c.dtype}, and type as: {type(c)}')"
   ]
  },
  {
   "cell_type": "markdown",
   "id": "f96af22a",
   "metadata": {},
   "source": [
    "### NOTE :\n",
    "**dtype**: Used for setting the element data types in a numpy array. Recall a numpy array must have homogenuous data type\n",
    "**type**: Regular python method for checking the datatype/class of a python data"
   ]
  },
  {
   "cell_type": "code",
   "execution_count": 2,
   "id": "0ebe5201",
   "metadata": {},
   "outputs": [
    {
     "name": "stdout",
     "output_type": "stream",
     "text": [
      ": [[ 2  4  5  6]\n",
      " [ 9 10 11 12]], with data type: int32, and numbers of dimension as: 2\n"
     ]
    }
   ],
   "source": [
    "d = np.array([[2,4,5,6], [9,10,11,12]])\n",
    "print(f': {d}, with data type: {d.dtype}, and numbers of dimension as: {d.ndim}')"
   ]
  },
  {
   "cell_type": "markdown",
   "id": "a87564c4",
   "metadata": {},
   "source": [
    "**ndim**: This is the numbers of indices required to access a single element in a numpy array."
   ]
  },
  {
   "cell_type": "code",
   "execution_count": 3,
   "id": "dd2370cf",
   "metadata": {},
   "outputs": [
    {
     "name": "stdout",
     "output_type": "stream",
     "text": [
      ": [list([2, 4, 6]) list([9, 10, 11, 12])], with data type: object, and numbers of dimension as: 1\n"
     ]
    },
    {
     "name": "stderr",
     "output_type": "stream",
     "text": [
      "C:\\Users\\endie\\AppData\\Local\\Temp\\ipykernel_14060\\3001416256.py:1: VisibleDeprecationWarning: Creating an ndarray from ragged nested sequences (which is a list-or-tuple of lists-or-tuples-or ndarrays with different lengths or shapes) is deprecated. If you meant to do this, you must specify 'dtype=object' when creating the ndarray.\n",
      "  e = np.array([[2, 4, 6], [9, 10, 11, 12]])\n"
     ]
    }
   ],
   "source": [
    "e = np.array([[2, 4, 6], [9, 10, 11, 12]])\n",
    "print(f': {e}, with data type: {e.dtype}, and numbers of dimension as: {e.ndim}')\n"
   ]
  },
  {
   "cell_type": "code",
   "execution_count": 4,
   "id": "b166ec6d",
   "metadata": {},
   "outputs": [
    {
     "data": {
      "text/plain": [
       "array([list([2, 4, 6]), list([9, 10, 11, 12])], dtype=object)"
      ]
     },
     "execution_count": 4,
     "metadata": {},
     "output_type": "execute_result"
    }
   ],
   "source": [
    "e"
   ]
  },
  {
   "cell_type": "code",
   "execution_count": 5,
   "id": "2085c58c",
   "metadata": {},
   "outputs": [
    {
     "data": {
      "text/plain": [
       "array([[ 2,  4,  5,  6],\n",
       "       [ 9, 10, 11, 12]])"
      ]
     },
     "execution_count": 5,
     "metadata": {},
     "output_type": "execute_result"
    }
   ],
   "source": [
    "d"
   ]
  },
  {
   "cell_type": "markdown",
   "id": "043e5c5b",
   "metadata": {},
   "source": [
    "### NOTE: For a multidimensional numpy array, the dimensions of each array set mush match."
   ]
  }
 ],
 "metadata": {
  "kernelspec": {
   "display_name": "Python 3.9.12 ('base')",
   "language": "python",
   "name": "python3"
  },
  "language_info": {
   "codemirror_mode": {
    "name": "ipython",
    "version": 3
   },
   "file_extension": ".py",
   "mimetype": "text/x-python",
   "name": "python",
   "nbconvert_exporter": "python",
   "pygments_lexer": "ipython3",
   "version": "3.9.12"
  },
  "vscode": {
   "interpreter": {
    "hash": "ad2bdc8ecc057115af97d19610ffacc2b4e99fae6737bb82f5d7fb13d2f2c186"
   }
  }
 },
 "nbformat": 4,
 "nbformat_minor": 5
}
